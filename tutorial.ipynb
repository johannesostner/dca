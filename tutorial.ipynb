{
 "cells": [
  {
   "cell_type": "markdown",
   "metadata": {},
   "source": [
    "# Denoising scRNA-seq using DCA"
   ]
  },
  {
   "cell_type": "markdown",
   "metadata": {},
   "source": [
    "## scRNA-seq Simulation using Splatter R package and rpy2"
   ]
  },
  {
   "cell_type": "code",
   "execution_count": 1,
   "metadata": {},
   "outputs": [],
   "source": [
    "# make sure that rpy2 is installed: https://rpy2.bitbucket.io/\n",
    "%load_ext rpy2.ipython\n",
    "\n",
    "import warnings\n",
    "from rpy2.rinterface import RRuntimeWarning\n",
    "\n",
    "# ignore R warning messages\n",
    "warnings.filterwarnings(\"ignore\", category=RRuntimeWarning)"
   ]
  },
  {
   "cell_type": "code",
   "execution_count": 2,
   "outputs": [],
   "source": [
    "import os\n",
    "\n",
    "r_home = \"/Library/Frameworks/R.framework/Resources\"\n",
    "r_path = r\"/Library/Frameworks/R.framework/Resources/bin\"\n",
    "\n",
    "os.environ[\"R_HOME\"] = r_home\n",
    "os.environ[\"PATH\"] = r_path + \";\" + os.environ[\"PATH\"]"
   ],
   "metadata": {
    "collapsed": false,
    "pycharm": {
     "name": "#%%\n"
    }
   }
  },
  {
   "cell_type": "markdown",
   "metadata": {},
   "source": [
    "### Simulate two groups using Splatter"
   ]
  },
  {
   "cell_type": "code",
   "execution_count": 3,
   "metadata": {},
   "outputs": [
    {
     "name": "stderr",
     "output_type": "stream",
     "text": [
      "R[write to console]: Loading required package: SingleCellExperiment\n",
      "\n",
      "R[write to console]: Loading required package: SummarizedExperiment\n",
      "\n",
      "R[write to console]: Loading required package: MatrixGenerics\n",
      "\n",
      "R[write to console]: Loading required package: matrixStats\n",
      "\n",
      "R[write to console]: \n",
      "Attaching package: ‘MatrixGenerics’\n",
      "\n",
      "\n",
      "R[write to console]: The following objects are masked from ‘package:matrixStats’:\n",
      "\n",
      "    colAlls, colAnyNAs, colAnys, colAvgsPerRowSet, colCollapse,\n",
      "    colCounts, colCummaxs, colCummins, colCumprods, colCumsums,\n",
      "    colDiffs, colIQRDiffs, colIQRs, colLogSumExps, colMadDiffs,\n",
      "    colMads, colMaxs, colMeans2, colMedians, colMins, colOrderStats,\n",
      "    colProds, colQuantiles, colRanges, colRanks, colSdDiffs, colSds,\n",
      "    colSums2, colTabulates, colVarDiffs, colVars, colWeightedMads,\n",
      "    colWeightedMeans, colWeightedMedians, colWeightedSds,\n",
      "    colWeightedVars, rowAlls, rowAnyNAs, rowAnys, rowAvgsPerColSet,\n",
      "    rowCollapse, rowCounts, rowCummaxs, rowCummins, rowCumprods,\n",
      "    rowCumsums, rowDiffs, rowIQRDiffs, rowIQRs, rowLogSumExps,\n",
      "    rowMadDiffs, rowMads, rowMaxs, rowMeans2, rowMedians, rowMins,\n",
      "    rowOrderStats, rowProds, rowQuantiles, rowRanges, rowRanks,\n",
      "    rowSdDiffs, rowSds, rowSums2, rowTabulates, rowVarDiffs, rowVars,\n",
      "    rowWeightedMads, rowWeightedMeans, rowWeightedMedians,\n",
      "    rowWeightedSds, rowWeightedVars\n",
      "\n",
      "\n",
      "R[write to console]: Loading required package: GenomicRanges\n",
      "\n",
      "R[write to console]: Loading required package: stats4\n",
      "\n",
      "R[write to console]: Loading required package: BiocGenerics\n",
      "\n",
      "R[write to console]: \n",
      "Attaching package: ‘BiocGenerics’\n",
      "\n",
      "\n",
      "R[write to console]: The following objects are masked from ‘package:stats’:\n",
      "\n",
      "    IQR, mad, sd, var, xtabs\n",
      "\n",
      "\n",
      "R[write to console]: The following objects are masked from ‘package:base’:\n",
      "\n",
      "    anyDuplicated, append, as.data.frame, basename, cbind, colnames,\n",
      "    dirname, do.call, duplicated, eval, evalq, Filter, Find, get, grep,\n",
      "    grepl, intersect, is.unsorted, lapply, Map, mapply, match, mget,\n",
      "    order, paste, pmax, pmax.int, pmin, pmin.int, Position, rank,\n",
      "    rbind, Reduce, rownames, sapply, setdiff, sort, table, tapply,\n",
      "    union, unique, unsplit, which.max, which.min\n",
      "\n",
      "\n",
      "R[write to console]: Loading required package: S4Vectors\n",
      "\n",
      "R[write to console]: \n",
      "Attaching package: ‘S4Vectors’\n",
      "\n",
      "\n",
      "R[write to console]: The following objects are masked from ‘package:base’:\n",
      "\n",
      "    expand.grid, I, unname\n",
      "\n",
      "\n",
      "R[write to console]: Loading required package: IRanges\n",
      "\n",
      "R[write to console]: Loading required package: GenomeInfoDb\n",
      "\n",
      "R[write to console]: Loading required package: Biobase\n",
      "\n",
      "R[write to console]: Welcome to Bioconductor\n",
      "\n",
      "    Vignettes contain introductory material; view with\n",
      "    'browseVignettes()'. To cite Bioconductor, see\n",
      "    'citation(\"Biobase\")', and for packages 'citation(\"pkgname\")'.\n",
      "\n",
      "\n",
      "R[write to console]: \n",
      "Attaching package: ‘Biobase’\n",
      "\n",
      "\n",
      "R[write to console]: The following object is masked from ‘package:MatrixGenerics’:\n",
      "\n",
      "    rowMedians\n",
      "\n",
      "\n",
      "R[write to console]: The following objects are masked from ‘package:matrixStats’:\n",
      "\n",
      "    anyMissing, rowMedians\n",
      "\n",
      "\n",
      "R[write to console]: Getting parameters...\n",
      "\n",
      "R[write to console]: Creating simulation object...\n",
      "\n",
      "R[write to console]: Simulating library sizes...\n",
      "\n",
      "R[write to console]: Simulating gene means...\n",
      "\n",
      "R[write to console]: Simulating group DE...\n",
      "\n",
      "R[write to console]: Simulating cell means...\n",
      "\n",
      "R[write to console]: Simulating BCV...\n",
      "\n",
      "R[write to console]: Simulating counts...\n",
      "\n",
      "R[write to console]: Simulating dropout (if needed)...\n",
      "\n",
      "R[write to console]: Sparsifying assays...\n",
      "\n",
      "R[write to console]: Automatically converting to sparse matrices, threshold = 0.95\n",
      "\n",
      "R[write to console]: Skipping 'BatchCellMeans': estimated sparse size 1.5 * dense matrix\n",
      "\n",
      "R[write to console]: Skipping 'BaseCellMeans': estimated sparse size 1.5 * dense matrix\n",
      "\n",
      "R[write to console]: Skipping 'BCV': estimated sparse size 1.5 * dense matrix\n",
      "\n",
      "R[write to console]: Skipping 'CellMeans': estimated sparse size 1.5 * dense matrix\n",
      "\n",
      "R[write to console]: Skipping 'TrueCounts': estimated sparse size 2.79 * dense matrix\n",
      "\n",
      "R[write to console]: Skipping 'DropProb': estimated sparse size 1.5 * dense matrix\n",
      "\n",
      "R[write to console]: Converting 'Dropout' to sparse matrix: estimated sparse size 0.7 * dense matrix\n",
      "\n",
      "R[write to console]: Skipping 'counts': estimated sparse size 1.95 * dense matrix\n",
      "\n",
      "R[write to console]: Done!\n",
      "\n"
     ]
    }
   ],
   "source": [
    "%%R -o counts -o truecounts -o geneinfo -o cellinfo\n",
    "\n",
    "# make sure that splatter is installed: https://github.com/Oshlack/splatter\n",
    "library(splatter)\n",
    "\n",
    "simulate <- function(nGroups=2, nGenes=200, batchCells=2000, dropout=3)\n",
    "{\n",
    "    if (nGroups > 1) method <- 'groups'\n",
    "    else             method <- 'single'\n",
    "\n",
    "    group.prob <- rep(1, nGroups) / nGroups\n",
    "\n",
    "    # new splatter requires dropout.type\n",
    "    if ('dropout.type' %in% slotNames(newSplatParams())) {\n",
    "        if (dropout)\n",
    "            dropout.type <- 'experiment'\n",
    "        else\n",
    "            dropout.type <- 'none'\n",
    "        \n",
    "        sim <- splatSimulate(group.prob=group.prob, nGenes=nGenes, batchCells=batchCells,\n",
    "                             dropout.type=dropout.type, method=method,\n",
    "                             seed=42, dropout.shape=-1, dropout.mid=dropout)\n",
    "\n",
    "    } else {\n",
    "        sim <- splatSimulate(group.prob=group.prob, nGenes=nGenes, batchCells=batchCells,\n",
    "                             dropout.present=!dropout, method=method,\n",
    "                             seed=42, dropout.shape=-1, dropout.mid=dropout)        \n",
    "    }\n",
    "\n",
    "    counts     <- as.data.frame(t(counts(sim)))\n",
    "    truecounts <- as.data.frame(t(assays(sim)$TrueCounts))\n",
    "\n",
    "    dropout    <- assays(sim)$Dropout\n",
    "    # mode(dropout) <- 'integer'\n",
    "\n",
    "    cellinfo   <- as.data.frame(colData(sim))\n",
    "    geneinfo   <- as.data.frame(rowData(sim))\n",
    "\n",
    "    list(counts=counts,\n",
    "         cellinfo=cellinfo,\n",
    "         geneinfo=geneinfo,\n",
    "         truecounts=truecounts)\n",
    "}\n",
    "\n",
    "sim <- simulate()\n",
    "\n",
    "counts <- sim$counts\n",
    "geneinfo <- sim$geneinfo\n",
    "cellinfo <- sim$cellinfo\n",
    "truecounts <- sim$truecounts"
   ]
  },
  {
   "cell_type": "markdown",
   "metadata": {},
   "source": [
    "## Generate AnnData objects and analyze in Scanpy"
   ]
  },
  {
   "cell_type": "code",
   "execution_count": 4,
   "outputs": [],
   "source": [
    "os.environ['CUDA_VISIBLE_DEVICES'] = '0'\n",
    "os.environ[\"SM_FRAMEWORK\"] = \"tf.keras\""
   ],
   "metadata": {
    "collapsed": false,
    "pycharm": {
     "name": "#%%\n"
    }
   }
  },
  {
   "cell_type": "code",
   "execution_count": 5,
   "metadata": {},
   "outputs": [
    {
     "name": "stderr",
     "output_type": "stream",
     "text": [
      "Using TensorFlow backend.\n"
     ]
    }
   ],
   "source": [
    "import numpy as np\n",
    "import matplotlib.pyplot as plt\n",
    "import seaborn as sns\n",
    "import scanpy as sc\n",
    "from dca.api import dca\n",
    "\n"
   ]
  },
  {
   "cell_type": "code",
   "execution_count": 6,
   "metadata": {},
   "outputs": [
    {
     "data": {
      "text/plain": "AnnData object with n_obs × n_vars = 2000 × 198\n    obs: 'Cell', 'Batch', 'Group', 'ExpLibSize'\n    var: 'Gene', 'BaseGeneMean', 'OutlierFactor', 'GeneMean', 'DEFacGroup1', 'DEFacGroup2', 'n_counts'"
     },
     "execution_count": 6,
     "metadata": {},
     "output_type": "execute_result"
    }
   ],
   "source": [
    "adata = sc.AnnData(counts.values, obs=cellinfo, var=geneinfo)\n",
    "adata.obs_names = cellinfo.Cell\n",
    "adata.var_names = geneinfo.Gene\n",
    "sc.pp.filter_genes(adata, min_counts=1)\n",
    "adata"
   ]
  },
  {
   "cell_type": "code",
   "execution_count": 7,
   "metadata": {},
   "outputs": [
    {
     "data": {
      "text/plain": "AnnData object with n_obs × n_vars = 2000 × 198\n    obs: 'Cell', 'Batch', 'Group', 'ExpLibSize'\n    var: 'Gene', 'BaseGeneMean', 'OutlierFactor', 'GeneMean', 'DEFacGroup1', 'DEFacGroup2'"
     },
     "execution_count": 7,
     "metadata": {},
     "output_type": "execute_result"
    }
   ],
   "source": [
    "adata_true = sc.AnnData(truecounts.values, obs=cellinfo, var=geneinfo)\n",
    "adata_true.obs_names = cellinfo.Cell\n",
    "adata_true.var_names = geneinfo.Gene\n",
    "adata_true = adata_true[:, adata.var_names].copy()\n",
    "adata_true"
   ]
  },
  {
   "cell_type": "code",
   "execution_count": 8,
   "metadata": {},
   "outputs": [],
   "source": [
    "sc.pp.normalize_per_cell(adata)\n",
    "sc.pp.normalize_per_cell(adata_true)\n",
    "\n",
    "sc.pp.log1p(adata)\n",
    "sc.pp.log1p(adata_true)\n",
    "\n",
    "sc.pp.pca(adata)\n",
    "sc.pp.pca(adata_true)"
   ]
  },
  {
   "cell_type": "markdown",
   "metadata": {},
   "source": [
    "## Denoise simulated data"
   ]
  },
  {
   "cell_type": "code",
   "execution_count": 9,
   "metadata": {},
   "outputs": [
    {
     "name": "stdout",
     "output_type": "stream",
     "text": [
      "dca: Successfully preprocessed 198 genes and 2000 cells.\n",
      "WARNING:tensorflow:From /Users/johannes.ostner/Documents/PhD/cloned_github_repos/dca/dca/train.py:41: The name tf.keras.backend.set_session is deprecated. Please use tf.compat.v1.keras.backend.set_session instead.\n",
      "\n"
     ]
    },
    {
     "name": "stderr",
     "output_type": "stream",
     "text": [
      "2021-11-22 15:31:37,065 [WARNING] From /Users/johannes.ostner/Documents/PhD/cloned_github_repos/dca/dca/train.py:41: The name tf.keras.backend.set_session is deprecated. Please use tf.compat.v1.keras.backend.set_session instead.\n",
      "\n",
      "/Users/johannes.ostner/opt/anaconda3/envs/dca/lib/python3.6/site-packages/tensorflow/python/keras/engine/training.py:2325: UserWarning: `Model.state_updates` will be removed in a future version. This property should not be used in TensorFlow 2.0, as `updates` are applied automatically.\n",
      "  warnings.warn('`Model.state_updates` will be removed in a future version. '\n",
      "WARNING: adata.X seems to be already log-transformed.\n"
     ]
    },
    {
     "name": "stdout",
     "output_type": "stream",
     "text": [
      "dca: Calculating reconstructions...\n",
      "CPU times: user 28.6 s, sys: 666 ms, total: 29.3 s\n",
      "Wall time: 29.6 s\n"
     ]
    }
   ],
   "source": [
    "%%time\n",
    "\n",
    "adata_ae = sc.AnnData(counts.values, obs=cellinfo, var=geneinfo)\n",
    "adata_ae.obs_names = cellinfo.Cell\n",
    "adata_ae.var_names = geneinfo.Gene\n",
    "\n",
    "sc.pp.filter_genes(adata_ae, min_counts=1)\n",
    "dca(adata_ae, threads=1)\n",
    "\n",
    "sc.pp.normalize_per_cell(adata_ae)\n",
    "sc.pp.log1p(adata_ae)\n",
    "sc.pp.pca(adata_ae)"
   ]
  },
  {
   "cell_type": "code",
   "execution_count": 10,
   "metadata": {},
   "outputs": [
    {
     "data": {
      "text/plain": "AnnData object with n_obs × n_vars = 2000 × 198\n    obs: 'Cell', 'Batch', 'Group', 'ExpLibSize', 'dca_split', 'n_counts', 'size_factors'\n    var: 'Gene', 'BaseGeneMean', 'OutlierFactor', 'GeneMean', 'DEFacGroup1', 'DEFacGroup2', 'n_counts', 'mean', 'std'\n    uns: 'log1p', 'pca'\n    obsm: 'X_pca'\n    varm: 'PCs'"
     },
     "execution_count": 10,
     "metadata": {},
     "output_type": "execute_result"
    }
   ],
   "source": [
    "adata_ae"
   ]
  },
  {
   "cell_type": "markdown",
   "metadata": {},
   "source": [
    "## PCA: Simulation with and without dropout effect"
   ]
  },
  {
   "cell_type": "code",
   "execution_count": null,
   "metadata": {},
   "outputs": [],
   "source": [
    "sc.pl.pca_scatter(adata, color='Group', size=20, title='Original counts')\n",
    "sc.pl.pca_scatter(adata_true, color='Group', size=20, title='True counts (no dropout)')\n",
    "sc.pl.pca_scatter(adata_ae, color='Group', size=20, title='Denoised counts')"
   ]
  },
  {
   "cell_type": "code",
   "execution_count": null,
   "metadata": {},
   "outputs": [],
   "source": [
    "from sklearn.metrics import silhouette_score\n",
    "\n",
    "sil_orig = silhouette_score(adata.obsm['X_pca'][:, :2], adata.obs.Group)\n",
    "sil_true = silhouette_score(adata_true.obsm['X_pca'][:, :2], adata_true.obs.Group)\n",
    "sil_ae = silhouette_score(adata_ae.obsm['X_pca'][:, :2], adata_ae.obs.Group)\n",
    "\n",
    "sns.barplot(x=['Original', 'True counts', 'Denoised'], \n",
    "            y=[sil_orig, sil_true, sil_ae])\n",
    "\n",
    "plt.title('Silhouette coefficients');"
   ]
  },
  {
   "cell_type": "code",
   "execution_count": null,
   "metadata": {},
   "outputs": [],
   "source": [
    "adata._sanitize()\n",
    "adata_ae._sanitize()"
   ]
  },
  {
   "cell_type": "code",
   "execution_count": null,
   "metadata": {},
   "outputs": [],
   "source": [
    "adata.obs.Group"
   ]
  },
  {
   "cell_type": "code",
   "execution_count": null,
   "metadata": {},
   "outputs": [],
   "source": [
    "de_genes = (adata.var.loc[:, 'DEFacGroup1':'DEFacGroup2'].values.sum(1) != 2.0)\n",
    "\n",
    "sc.pl.clustermap(adata[:, de_genes], 'Group', use_raw=False)\n",
    "sc.pl.clustermap(adata_ae[:, de_genes], 'Group', use_raw=False)"
   ]
  },
  {
   "cell_type": "markdown",
   "metadata": {},
   "source": [
    "## Simulate six groups"
   ]
  },
  {
   "cell_type": "code",
   "execution_count": null,
   "metadata": {},
   "outputs": [],
   "source": [
    "%%R -o counts -o geneinfo -o cellinfo -o truecounts\n",
    "\n",
    "sim <- simulate(nGroups=6, dropout=1)\n",
    "\n",
    "counts <- sim$counts\n",
    "geneinfo <- sim$geneinfo\n",
    "cellinfo <- sim$cellinfo\n",
    "truecounts <- sim$truecounts"
   ]
  },
  {
   "cell_type": "code",
   "execution_count": null,
   "metadata": {},
   "outputs": [],
   "source": [
    "adata = sc.AnnData(counts.values, obs=cellinfo, var=geneinfo)\n",
    "adata.obs_names = cellinfo.Cell\n",
    "adata.var_names = geneinfo.Gene\n",
    "sc.pp.filter_genes(adata, min_counts=1)\n",
    "\n",
    "adata_true = sc.AnnData(truecounts.values, obs=cellinfo, var=geneinfo)\n",
    "adata_true.obs_names = cellinfo.Cell\n",
    "adata_true.var_names = geneinfo.Gene\n",
    "adata_true = adata_true[:, adata.var_names].copy()\n",
    "adata_true"
   ]
  },
  {
   "cell_type": "code",
   "execution_count": null,
   "metadata": {},
   "outputs": [],
   "source": [
    "sc.pp.normalize_per_cell(adata)\n",
    "sc.pp.normalize_per_cell(adata_true)\n",
    "\n",
    "sc.pp.log1p(adata)\n",
    "sc.pp.log1p(adata_true)\n",
    "\n",
    "sc.pp.pca(adata)\n",
    "sc.pp.pca(adata_true)\n",
    "\n",
    "sc.tl.tsne(adata)\n",
    "sc.tl.tsne(adata_true)"
   ]
  },
  {
   "cell_type": "markdown",
   "metadata": {},
   "source": [
    "## Denoise simulated data"
   ]
  },
  {
   "cell_type": "code",
   "execution_count": null,
   "metadata": {},
   "outputs": [],
   "source": [
    "%%time\n",
    "\n",
    "adata_ae = sc.AnnData(counts.values, obs=cellinfo, var=geneinfo)\n",
    "adata_ae.obs_names = cellinfo.Cell\n",
    "adata_ae.var_names = geneinfo.Gene\n",
    "\n",
    "sc.pp.filter_genes(adata_ae, min_counts=1)\n",
    "dca(adata_ae, threads=1)\n",
    "\n",
    "sc.pp.normalize_per_cell(adata_ae)\n",
    "sc.pp.log1p(adata_ae)\n",
    "sc.tl.tsne(adata_ae)\n",
    "\n",
    "adata_ae"
   ]
  },
  {
   "cell_type": "code",
   "execution_count": null,
   "metadata": {},
   "outputs": [],
   "source": [
    "sc.pl.tsne(adata, color='Group', size=20, title='Original counts')\n",
    "sc.pl.tsne(adata_true, color='Group', size=20, title='True counts (no dropout)')\n",
    "sc.pl.tsne(adata_ae, color='Group', size=20, title='Denoised counts')"
   ]
  },
  {
   "cell_type": "code",
   "execution_count": null,
   "metadata": {},
   "outputs": [],
   "source": [
    "from sklearn.metrics import silhouette_score\n",
    "\n",
    "sil_orig = silhouette_score(adata.obsm['X_tsne'], adata.obs.Group)\n",
    "sil_true = silhouette_score(adata_true.obsm['X_tsne'], adata_true.obs.Group)\n",
    "sil_ae   = silhouette_score(adata_ae.obsm['X_tsne'], adata_ae.obs.Group)\n",
    "\n",
    "sns.barplot(x=['Original', 'True counts', 'Denoised'], y=[sil_orig, sil_true, sil_ae])\n",
    "plt.title('Silhouette coefficients');"
   ]
  },
  {
   "cell_type": "code",
   "execution_count": null,
   "metadata": {},
   "outputs": [],
   "source": [
    "adata"
   ]
  },
  {
   "cell_type": "code",
   "execution_count": null,
   "metadata": {},
   "outputs": [],
   "source": [
    "de_genes = (adata.var.loc[:, 'DEFacGroup1':'DEFacGroup6'].values.sum(1) != 6.0)\n",
    "\n",
    "sc.pl.clustermap(adata[:, de_genes], 'Group', use_raw=False)\n",
    "sc.pl.clustermap(adata_ae[:, de_genes], 'Group', use_raw=False)"
   ]
  }
 ],
 "metadata": {
  "kernelspec": {
   "display_name": "Python 3",
   "language": "python",
   "name": "python3"
  },
  "language_info": {
   "codemirror_mode": {
    "name": "ipython",
    "version": 3
   },
   "file_extension": ".py",
   "mimetype": "text/x-python",
   "name": "python",
   "nbconvert_exporter": "python",
   "pygments_lexer": "ipython3",
   "version": "3.7.4"
  }
 },
 "nbformat": 4,
 "nbformat_minor": 4
}